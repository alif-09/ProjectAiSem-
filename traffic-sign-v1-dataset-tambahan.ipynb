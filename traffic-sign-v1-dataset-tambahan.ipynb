{
 "cells": [
  {
   "cell_type": "code",
   "execution_count": 1,
   "id": "c1f09883",
   "metadata": {
    "_cell_guid": "b1076dfc-b9ad-4769-8c92-a6c4dae69d19",
    "_uuid": "8f2839f25d086af736a60e9eeb907d3b93b6e0e5",
    "execution": {
     "iopub.execute_input": "2024-06-16T20:44:47.418482Z",
     "iopub.status.busy": "2024-06-16T20:44:47.418144Z",
     "iopub.status.idle": "2024-06-16T20:44:47.424294Z",
     "shell.execute_reply": "2024-06-16T20:44:47.423458Z"
    },
    "papermill": {
     "duration": 0.01495,
     "end_time": "2024-06-16T20:44:47.426197",
     "exception": false,
     "start_time": "2024-06-16T20:44:47.411247",
     "status": "completed"
    },
    "tags": []
   },
   "outputs": [],
   "source": [
    "# import os\n",
    "# import pandas as pd\n",
    "# from shutil import copy2\n",
    "\n",
    "# def convert_to_yolo(row, width, height):\n",
    "#     x1 = row['Roi.X1']\n",
    "#     y1 = row['Roi.Y1']\n",
    "#     x2 = row['Roi.X2']\n",
    "#     y2 = row['Roi.Y2']\n",
    "\n",
    "#     box_width = x2 - x1\n",
    "#     box_height = y2 - y1\n",
    "#     center_x = x1 + box_width / 2\n",
    "#     center_y = y1 + box_height / 2\n",
    "\n",
    "#     center_x /= width\n",
    "#     center_y /= height\n",
    "#     box_width /= width\n",
    "#     box_height /= height\n",
    "\n",
    "#     return center_x, center_y, box_width, box_height\n",
    "\n",
    "# def process_csv(csv_path, images_root_dir, output_images_dir, output_labels_dir):\n",
    "#     data_csv = pd.read_csv(csv_path)\n",
    "#     for index, row in data_csv.iterrows():\n",
    "#         image_path = row['Path']\n",
    "#         image_name = os.path.basename(image_path)\n",
    "#         txt_name = image_name.replace('.png', '.txt')\n",
    "\n",
    "#         width, height = row['Width'], row['Height']\n",
    "#         center_x, center_y, box_width, box_height = convert_to_yolo(row, width, height)\n",
    "#         cls = row['ClassId']\n",
    "\n",
    "#         src = os.path.join(images_root_dir, image_path)\n",
    "#         dst = os.path.join(output_images_dir, image_name)\n",
    "\n",
    "#         os.makedirs(output_images_dir, exist_ok=True)\n",
    "\n",
    "#         if os.path.exists(src):\n",
    "#             copy2(src, dst)\n",
    "#         else:\n",
    "#             continue\n",
    "\n",
    "#         label_path = os.path.join(output_labels_dir, txt_name)\n",
    "#         os.makedirs(output_labels_dir, exist_ok=True)\n",
    "#         with open(label_path, 'w') as f:\n",
    "#             f.write(f'{cls} {center_x} {center_y} {box_width} {box_height}\\n')\n",
    "\n",
    "# train_csv_path = '../input/gtsrb-german-traffic-sign/Train.csv'\n",
    "# test_csv_path = '../input/gtsrb-german-traffic-sign/Test.csv'\n",
    "# images_root_dir = '../input/gtsrb-german-traffic-sign'  \n",
    "# output_train_images_dir = 'datasets/train/images'\n",
    "# output_train_labels_dir = 'datasets/train/labels'\n",
    "# output_test_images_dir = 'datasets/val/images'\n",
    "# output_test_labels_dir = 'datasets/val/labels'\n",
    "\n",
    "# process_csv(train_csv_path, images_root_dir, output_train_images_dir, output_train_labels_dir)\n",
    "# process_csv(test_csv_path, images_root_dir, output_test_images_dir, output_test_labels_dir)\n"
   ]
  },
  {
   "cell_type": "code",
   "execution_count": 2,
   "id": "cb39b91d",
   "metadata": {
    "execution": {
     "iopub.execute_input": "2024-06-16T20:44:47.437365Z",
     "iopub.status.busy": "2024-06-16T20:44:47.437099Z",
     "iopub.status.idle": "2024-06-16T20:44:47.440552Z",
     "shell.execute_reply": "2024-06-16T20:44:47.439781Z"
    },
    "papermill": {
     "duration": 0.011006,
     "end_time": "2024-06-16T20:44:47.442353",
     "exception": false,
     "start_time": "2024-06-16T20:44:47.431347",
     "status": "completed"
    },
    "tags": []
   },
   "outputs": [],
   "source": [
    "# !pip install ultralytics==8.0.196\n",
    "\n",
    "# from IPython import display\n",
    "# display.clear_output()\n",
    "\n",
    "# import ultralytics\n",
    "# ultralytics.checks()"
   ]
  },
  {
   "cell_type": "code",
   "execution_count": 3,
   "id": "502f6dce",
   "metadata": {
    "execution": {
     "iopub.execute_input": "2024-06-16T20:44:47.453274Z",
     "iopub.status.busy": "2024-06-16T20:44:47.452994Z",
     "iopub.status.idle": "2024-06-16T20:44:47.456614Z",
     "shell.execute_reply": "2024-06-16T20:44:47.455858Z"
    },
    "papermill": {
     "duration": 0.010992,
     "end_time": "2024-06-16T20:44:47.458467",
     "exception": false,
     "start_time": "2024-06-16T20:44:47.447475",
     "status": "completed"
    },
    "tags": []
   },
   "outputs": [],
   "source": [
    "# !nvidia-smi"
   ]
  },
  {
   "cell_type": "code",
   "execution_count": 4,
   "id": "0679ad02",
   "metadata": {
    "execution": {
     "iopub.execute_input": "2024-06-16T20:44:47.469386Z",
     "iopub.status.busy": "2024-06-16T20:44:47.469130Z",
     "iopub.status.idle": "2024-06-16T20:44:47.472445Z",
     "shell.execute_reply": "2024-06-16T20:44:47.471689Z"
    },
    "papermill": {
     "duration": 0.010973,
     "end_time": "2024-06-16T20:44:47.474493",
     "exception": false,
     "start_time": "2024-06-16T20:44:47.463520",
     "status": "completed"
    },
    "tags": []
   },
   "outputs": [],
   "source": [
    "# !yolo detect mode=train data=/kaggle/input/data-yaml/data.yaml model=yolov8s.yaml epochs=20 imgsz=512 batch=64"
   ]
  },
  {
   "cell_type": "code",
   "execution_count": 5,
   "id": "8c0e8d4b",
   "metadata": {
    "execution": {
     "iopub.execute_input": "2024-06-16T20:44:47.485188Z",
     "iopub.status.busy": "2024-06-16T20:44:47.484942Z",
     "iopub.status.idle": "2024-06-16T20:44:47.488350Z",
     "shell.execute_reply": "2024-06-16T20:44:47.487551Z"
    },
    "papermill": {
     "duration": 0.010827,
     "end_time": "2024-06-16T20:44:47.490146",
     "exception": false,
     "start_time": "2024-06-16T20:44:47.479319",
     "status": "completed"
    },
    "tags": []
   },
   "outputs": [],
   "source": [
    "# !yolo detect train data=/kaggle/input/data-yaml/data.yaml model=yolov8n.pt epochs=20 imgsz=800 batch=64\n"
   ]
  },
  {
   "cell_type": "code",
   "execution_count": 6,
   "id": "ec1daddc",
   "metadata": {
    "execution": {
     "iopub.execute_input": "2024-06-16T20:44:47.501259Z",
     "iopub.status.busy": "2024-06-16T20:44:47.500651Z",
     "iopub.status.idle": "2024-06-16T20:44:47.504661Z",
     "shell.execute_reply": "2024-06-16T20:44:47.503736Z"
    },
    "papermill": {
     "duration": 0.011307,
     "end_time": "2024-06-16T20:44:47.506475",
     "exception": false,
     "start_time": "2024-06-16T20:44:47.495168",
     "status": "completed"
    },
    "tags": []
   },
   "outputs": [],
   "source": [
    "# import os\n",
    "# from ultralytics import YOLO\n",
    "\n",
    "# data_path = '/kaggle/input/data-yaml/data.yaml'\n",
    "# model_path = 'yolov8s.pt'\n",
    "\n",
    "# model = YOLO(model_path)\n",
    "\n",
    "# model.train(\n",
    "#     data=data_path,\n",
    "#     epochs=40,\n",
    "#     imgsz=640,\n",
    "#     batch=64,\n",
    "#     fliplr=0.0,    # Hindari flipping horizontal (mirroring)\n",
    "#     flipud=0.0,    # Hindari flipping vertikal (mirroring)\n",
    "#     degrees=0.0,   # Hindari rotasi\n",
    "# )\n"
   ]
  },
  {
   "cell_type": "markdown",
   "id": "98ebc6d5",
   "metadata": {
    "papermill": {
     "duration": 0.004864,
     "end_time": "2024-06-16T20:44:47.516180",
     "exception": false,
     "start_time": "2024-06-16T20:44:47.511316",
     "status": "completed"
    },
    "tags": []
   },
   "source": [
    "# Bagian II"
   ]
  },
  {
   "cell_type": "markdown",
   "id": "42e5e6cd",
   "metadata": {
    "papermill": {
     "duration": 0.004908,
     "end_time": "2024-06-16T20:44:47.525928",
     "exception": false,
     "start_time": "2024-06-16T20:44:47.521020",
     "status": "completed"
    },
    "tags": []
   },
   "source": [
    "## Latih Model dengan Dataset yg Beragam (Dataset dengan Jarak Jauh dan lebih dari 1 Kelas pada 1 Gambar)"
   ]
  },
  {
   "cell_type": "code",
   "execution_count": 7,
   "id": "e1a39b61",
   "metadata": {
    "execution": {
     "iopub.execute_input": "2024-06-16T20:44:47.536687Z",
     "iopub.status.busy": "2024-06-16T20:44:47.536460Z",
     "iopub.status.idle": "2024-06-16T20:45:24.016165Z",
     "shell.execute_reply": "2024-06-16T20:45:24.015102Z"
    },
    "papermill": {
     "duration": 36.487661,
     "end_time": "2024-06-16T20:45:24.018418",
     "exception": false,
     "start_time": "2024-06-16T20:44:47.530757",
     "status": "completed"
    },
    "tags": []
   },
   "outputs": [
    {
     "name": "stdout",
     "output_type": "stream",
     "text": [
      "Ultralytics YOLOv8.2.33 🚀 Python-3.10.13 torch-2.1.2 CUDA:0 (Tesla T4, 15102MiB)\n",
      "Setup complete ✅ (4 CPUs, 31.4 GB RAM, 5689.3/8062.4 GB disk)\n"
     ]
    }
   ],
   "source": [
    "!pip install ultralytics\n",
    "\n",
    "from IPython import display\n",
    "display.clear_output()\n",
    "\n",
    "import ultralytics\n",
    "ultralytics.checks()"
   ]
  },
  {
   "cell_type": "code",
   "execution_count": 8,
   "id": "4c5696b1",
   "metadata": {
    "execution": {
     "iopub.execute_input": "2024-06-16T20:45:24.030870Z",
     "iopub.status.busy": "2024-06-16T20:45:24.030486Z",
     "iopub.status.idle": "2024-06-16T20:45:24.037758Z",
     "shell.execute_reply": "2024-06-16T20:45:24.036942Z"
    },
    "papermill": {
     "duration": 0.015854,
     "end_time": "2024-06-16T20:45:24.039643",
     "exception": false,
     "start_time": "2024-06-16T20:45:24.023789",
     "status": "completed"
    },
    "tags": []
   },
   "outputs": [],
   "source": [
    "# import os\n",
    "# import shutil\n",
    "# import cv2\n",
    "# from ultralytics import YOLO\n",
    "\n",
    "# # Muat model YOLOv8 yang sudah dilatih\n",
    "# model = YOLO('/kaggle/input/trafficsign/other/yolo/1/best11.pt')\n",
    "\n",
    "# # Fungsi untuk memperbesar bounding box\n",
    "# def enlarge_bbox(bbox, scale=1.2):\n",
    "#     center_x, center_y, width, height = bbox\n",
    "#     new_width = width * scale\n",
    "#     new_height = height * scale\n",
    "#     return [center_x, center_y, new_width, new_height]\n",
    "\n",
    "# # Fungsi untuk memprediksi dan memperbarui label\n",
    "# def predict_and_update_label(image_path, label_path, model, output_image_path, output_label_path):\n",
    "#     image = cv2.imread(image_path)\n",
    "#     height, width = image.shape[:2]\n",
    "\n",
    "#     # Baca label yang ada\n",
    "#     with open(label_path, 'r') as file:\n",
    "#         lines = file.readlines()\n",
    "\n",
    "#     new_labels = []\n",
    "\n",
    "#     for line in lines:\n",
    "#         parts = line.strip().split()\n",
    "#         class_id = int(parts[0])\n",
    "#         center_x = float(parts[1]) * width\n",
    "#         center_y = float(parts[2]) * height\n",
    "#         bbox_width = float(parts[3]) * width\n",
    "#         bbox_height = float(parts[4]) * height\n",
    "\n",
    "#         # Perbesar bounding box\n",
    "#         bbox = [center_x, center_y, bbox_width, bbox_height]\n",
    "#         enlarged_bbox = enlarge_bbox(bbox)\n",
    "\n",
    "#         # Crop image sesuai bounding box yang diperbesar\n",
    "#         x_min = max(0, int(enlarged_bbox[0] - enlarged_bbox[2] / 2))\n",
    "#         y_min = max(0, int(enlarged_bbox[1] - enlarged_bbox[3] / 2))\n",
    "#         x_max = min(width, int(enlarged_bbox[0] + enlarged_bbox[2] / 2))\n",
    "#         y_max = min(height, int(enlarged_bbox[1] + enlarged_bbox[3] / 2))\n",
    "\n",
    "#         cropped_image = image[y_min:y_max, x_min:x_max]\n",
    "\n",
    "#         # Prediksi menggunakan YOLOv8 pada gambar yang sudah di-crop\n",
    "#         results = model(cropped_image)\n",
    "\n",
    "#         for result in results:\n",
    "#             for box in result.boxes:\n",
    "#                 cls = box.cpu().cls.numpy()[0]\n",
    "#                 conf = box.cpu().conf.numpy()[0]\n",
    "#                 x_center, y_center, w, h = box.cpu().xywh.numpy()[0]\n",
    "\n",
    "#                 # Transformasi kembali koordinat ke skala asli gambar\n",
    "#                 x_center = (x_center + x_min) / width\n",
    "#                 y_center = (y_center + y_min) / height\n",
    "#                 w /= width\n",
    "#                 h /= height\n",
    "\n",
    "#                 if conf > 0.5:  # Confidence threshold\n",
    "#                     new_labels.append(f'{int(cls)} {x_center} {y_center} {w} {h}')\n",
    "\n",
    "#     # Simpan hasil prediksi baru\n",
    "#     with open(output_label_path, 'w') as out_file:\n",
    "#         for label in new_labels:\n",
    "#             out_file.write(label + '\\n')\n",
    "\n",
    "#     # Simpan gambar asli ke direktori output\n",
    "#     cv2.imwrite(output_image_path, image)\n",
    "\n",
    "# # Path ke direktori dengan gambar dan label\n",
    "# data_dir = '/kaggle/input/traffic-signs-dataset-in-yolo-format/ts/ts'\n",
    "# output_dir = '/kaggle/working/dataset2'  # Ganti dengan path ke direktori output\n",
    "\n",
    "# # Buat direktori output jika belum ada\n",
    "# test_dir = os.path.join(output_dir, 'test')\n",
    "# train_dir = os.path.join(output_dir, 'train')\n",
    "# os.makedirs(test_dir, exist_ok=True)\n",
    "# os.makedirs(train_dir, exist_ok=True)\n",
    "\n",
    "# # Baca daftar file test dari test.txt\n",
    "# with open('/kaggle/input/traffic-signs-dataset-in-yolo-format/test.txt', 'r') as file:\n",
    "#     test_files = {os.path.basename(line.strip()) for line in file.readlines()}\n",
    "\n",
    "# # Proses setiap file dalam direktori\n",
    "# for filename in os.listdir(data_dir):\n",
    "#     if filename.endswith(('.jpg', '.jpeg', '.png')):\n",
    "#         image_path = os.path.join(data_dir, filename)\n",
    "#         label_path = os.path.join(data_dir, os.path.splitext(filename)[0] + '.txt')\n",
    "        \n",
    "#         if filename in test_files:\n",
    "#             output_image_path = os.path.join(test_dir, filename)\n",
    "#             output_label_path = os.path.join(test_dir, os.path.splitext(filename)[0] + '.txt')\n",
    "#         else:\n",
    "#             output_image_path = os.path.join(train_dir, filename)\n",
    "#             output_label_path = os.path.join(train_dir, os.path.splitext(filename)[0] + '.txt')\n",
    "        \n",
    "#         predict_and_update_label(image_path, label_path, model, output_image_path, output_label_path)\n"
   ]
  },
  {
   "cell_type": "code",
   "execution_count": 9,
   "id": "a918c6d9",
   "metadata": {
    "execution": {
     "iopub.execute_input": "2024-06-16T20:45:24.051176Z",
     "iopub.status.busy": "2024-06-16T20:45:24.050906Z",
     "iopub.status.idle": "2024-06-16T20:46:14.192921Z",
     "shell.execute_reply": "2024-06-16T20:46:14.192050Z"
    },
    "papermill": {
     "duration": 50.150288,
     "end_time": "2024-06-16T20:46:14.194973",
     "exception": false,
     "start_time": "2024-06-16T20:45:24.044685",
     "status": "completed"
    },
    "tags": []
   },
   "outputs": [],
   "source": [
    "import os\n",
    "import cv2\n",
    "import numpy as np\n",
    "from collections import defaultdict\n",
    "from ultralytics import YOLO\n",
    "\n",
    "# Muat model YOLOv8 yang sudah dilatih\n",
    "model = YOLO('/kaggle/input/trafficsign/other/yolo/1/best11.pt')  # Ganti dengan path ke model YOLOv8 Anda\n",
    "\n",
    "# Fungsi untuk memperbesar bounding box\n",
    "def enlarge_bbox(bbox, scale=1.2):\n",
    "    center_x, center_y, width, height = bbox\n",
    "    new_width = width * scale\n",
    "    new_height = height * scale\n",
    "    return [center_x, center_y, new_width, new_height]\n",
    "\n",
    "# Fungsi untuk memprediksi dan memperbarui label\n",
    "def predict_and_update_label(image_path, label_path, model, output_image_path, output_label_path):\n",
    "    image = cv2.imread(image_path)\n",
    "    height, width = image.shape[:2]\n",
    "\n",
    "    # Baca label yang ada\n",
    "    with open(label_path, 'r') as file:\n",
    "        lines = file.readlines()\n",
    "\n",
    "    new_labels = []\n",
    "    class_counts = defaultdict(int)  # Dictionary untuk menghitung jumlah objek per kelas\n",
    "\n",
    "    for line in lines:\n",
    "        parts = line.strip().split()\n",
    "        class_id = int(parts[0])\n",
    "        center_x = float(parts[1]) * width\n",
    "        center_y = float(parts[2]) * height\n",
    "        bbox_width = float(parts[3]) * width\n",
    "        bbox_height = float(parts[4]) * height\n",
    "\n",
    "        # Perbesar bounding box\n",
    "        bbox = [center_x, center_y, bbox_width, bbox_height]\n",
    "        enlarged_bbox = enlarge_bbox(bbox)\n",
    "\n",
    "        # Crop image sesuai bounding box yang diperbesar\n",
    "        x_min = max(0, int(enlarged_bbox[0] - enlarged_bbox[2] / 2))\n",
    "        y_min = max(0, int(enlarged_bbox[1] - enlarged_bbox[3] / 2))\n",
    "        x_max = min(width, int(enlarged_bbox[0] + enlarged_bbox[2] / 2))\n",
    "        y_max = min(height, int(enlarged_bbox[1] + enlarged_bbox[3] / 2))\n",
    "\n",
    "        cropped_image = image[y_min:y_max, x_min:x_max]\n",
    "\n",
    "        # Prediksi menggunakan YOLOv8 pada gambar yang sudah di-crop\n",
    "        results = model(cropped_image)\n",
    "\n",
    "        for result in results:\n",
    "            for box in result.boxes:\n",
    "                cls = box.cpu().cls.numpy()[0]\n",
    "                conf = box.cpu().conf.numpy()[0]\n",
    "                x_center, y_center, w, h = box.cpu().xywh.numpy()[0]\n",
    "\n",
    "                # Transformasi kembali koordinat ke skala asli gambar\n",
    "                x_center = (x_center + x_min) / width\n",
    "                y_center = (y_center + y_min) / height\n",
    "                w /= width\n",
    "                h /= height\n",
    "\n",
    "                if conf > 0.5:  # Confidence threshold\n",
    "                    new_labels.append(f'{int(cls)} {x_center} {y_center} {w} {h}')\n",
    "                    class_counts[int(cls)] += 1\n",
    "\n",
    "    # Simpan hasil prediksi baru\n",
    "    with open(output_label_path, 'w') as out_file:\n",
    "        for label in new_labels:\n",
    "            out_file.write(label + '\\n')\n",
    "\n",
    "    # Simpan gambar asli ke direktori output\n",
    "    cv2.imwrite(output_image_path, image)\n",
    "\n",
    "    return class_counts\n",
    "\n",
    "# Path ke direktori dengan gambar dan label\n",
    "data_dir = '/kaggle/input/traffic-signs-dataset-in-yolo-format/ts/ts'\n",
    "output_dir = '/kaggle/working/dataset2'  # Ganti dengan path ke direktori output\n",
    "\n",
    "# Buat direktori output jika belum ada\n",
    "os.makedirs(output_dir, exist_ok=True)\n",
    "\n",
    "# Dictionary untuk mengumpulkan jumlah objek per kelas dari semua gambar\n",
    "total_class_counts = defaultdict(int)\n",
    "\n",
    "# Proses setiap file dalam direktori\n",
    "for filename in os.listdir(data_dir):\n",
    "    if filename.endswith(('.jpg', '.jpeg', '.png')):\n",
    "        image_path = os.path.join(data_dir, filename)\n",
    "        label_path = os.path.join(data_dir, os.path.splitext(filename)[0] + '.txt')\n",
    "        output_image_path = os.path.join(output_dir, filename)  # Gambar asli disimpan dengan nama yang sama\n",
    "        output_label_path = os.path.join(output_dir, os.path.splitext(filename)[0] + '.txt')\n",
    "        \n",
    "        class_counts = predict_and_update_label(image_path, label_path, model, output_image_path, output_label_path)\n",
    "        \n",
    "        # Tambahkan jumlah objek per kelas dari gambar ini ke total_class_counts\n",
    "        for cls_id, count in class_counts.items():\n",
    "            total_class_counts[cls_id] += count\n",
    "\n",
    "# Tampilkan jumlah objek per kelas\n",
    "print(\"Total object counts per class:\")\n",
    "for cls_id, count in total_class_counts.items():\n",
    "    print(f\"Class {cls_id}: {count}\")\n",
    "\n",
    "from IPython import display\n",
    "display.clear_output()"
   ]
  },
  {
   "cell_type": "code",
   "execution_count": 10,
   "id": "b3189ac0",
   "metadata": {
    "execution": {
     "iopub.execute_input": "2024-06-16T20:46:14.207302Z",
     "iopub.status.busy": "2024-06-16T20:46:14.206565Z",
     "iopub.status.idle": "2024-06-16T20:46:14.596550Z",
     "shell.execute_reply": "2024-06-16T20:46:14.595465Z"
    },
    "papermill": {
     "duration": 0.398253,
     "end_time": "2024-06-16T20:46:14.598755",
     "exception": false,
     "start_time": "2024-06-16T20:46:14.200502",
     "status": "completed"
    },
    "tags": []
   },
   "outputs": [
    {
     "name": "stdout",
     "output_type": "stream",
     "text": [
      "Train dataset:\n",
      "Total images: 741\n",
      "Class distribution:\n",
      "defaultdict(<class 'int'>, {7: 41, 18: 39, 34: 12, 33: 16, 38: 87, 13: 83, 14: 32, 2: 80, 12: 85, 19: 2, 1: 79, 21: 5, 11: 38, 3: 30, 9: 42, 26: 18, 41: 7, 28: 12, 15: 15, 0: 4, 10: 80, 8: 56, 4: 68, 23: 21, 35: 20, 25: 31, 40: 10, 5: 54, 36: 10, 42: 11, 30: 16, 39: 6, 17: 29, 32: 8, 16: 8, 24: 5, 20: 9, 29: 5, 22: 12, 6: 19, 27: 3, 31: 2, 37: 2})\n",
      "\n",
      "Test dataset:\n",
      "Total images: 0\n",
      "Class distribution:\n",
      "defaultdict(<class 'int'>, {})\n"
     ]
    }
   ],
   "source": [
    "import os\n",
    "import shutil\n",
    "from collections import defaultdict\n",
    "import random\n",
    "\n",
    "# Path ke direktori dengan gambar dan label\n",
    "data_dir = '/kaggle/working/dataset2'\n",
    "output_dir = '/kaggle/working/dataset2'  # Ganti dengan path ke direktori output\n",
    "\n",
    "# Buat direktori output jika belum ada\n",
    "os.makedirs(output_dir, exist_ok=True)\n",
    "\n",
    "# Dictionary untuk menyimpan path gambar dan label per kelas\n",
    "class_images = defaultdict(list)\n",
    "class_labels = defaultdict(list)\n",
    "\n",
    "# Memuat semua gambar dan label ke dalam dictionary berdasarkan kelas\n",
    "for filename in os.listdir(data_dir):\n",
    "    if filename.endswith(('.jpg', '.jpeg', '.png')):\n",
    "        image_path = os.path.join(data_dir, filename)\n",
    "        label_path = os.path.join(data_dir, os.path.splitext(filename)[0] + '.txt')\n",
    "        \n",
    "        # Ambil class_id dari nama file, misalnya '00266.jpg'\n",
    "        class_id = int(filename.split('.')[0])  # Ambil class_id dari nama file\n",
    "        \n",
    "        class_images[class_id].append(image_path)\n",
    "        class_labels[class_id].append(label_path)\n",
    "\n",
    "# List untuk menyimpan path gambar yang akan dipindahkan ke train dan test\n",
    "train_images = []\n",
    "train_labels = []\n",
    "test_images = []\n",
    "test_labels = []\n",
    "\n",
    "# Memilih sampel untuk train dan test\n",
    "for class_id, images in class_images.items():\n",
    "    total_images = len(images)\n",
    "    \n",
    "    # Acak urutan gambar\n",
    "    random.shuffle(images)\n",
    "    \n",
    "    # Ambil 20% untuk test\n",
    "    num_test = int(0.2 * total_images)\n",
    "    test_selected = images[:num_test]\n",
    "    \n",
    "    # Sisanya untuk train\n",
    "    train_selected = images[num_test:]\n",
    "    \n",
    "    train_images.extend(train_selected)\n",
    "    train_labels.extend([label for img in train_selected for label in class_labels[class_id]])\n",
    "    test_images.extend(test_selected)\n",
    "    test_labels.extend([label for img in test_selected for label in class_labels[class_id]])\n",
    "\n",
    "# Fungsi untuk memindahkan gambar dan label ke direktori output\n",
    "def move_files(images, labels, output_folder):\n",
    "    for img_path, lbl_path in zip(images, labels):\n",
    "        img_filename = os.path.basename(img_path)\n",
    "        lbl_filename = os.path.basename(lbl_path)\n",
    "        \n",
    "        output_img_path = os.path.join(output_folder, img_filename)\n",
    "        output_lbl_path = os.path.join(output_folder, os.path.splitext(img_filename)[0] + '.txt')\n",
    "        \n",
    "        shutil.copyfile(img_path, output_img_path)\n",
    "        shutil.copyfile(lbl_path, output_lbl_path)\n",
    "\n",
    "# Direktori train dan test di dalam output_dir\n",
    "train_dir = os.path.join(output_dir, 'train')\n",
    "test_dir = os.path.join(output_dir, 'test')\n",
    "\n",
    "# Buat direktori train dan test jika belum ada\n",
    "os.makedirs(train_dir, exist_ok=True)\n",
    "os.makedirs(test_dir, exist_ok=True)\n",
    "\n",
    "# Pindahkan gambar dan label ke train\n",
    "move_files(train_images, train_labels, train_dir)\n",
    "\n",
    "# Pindahkan gambar dan label ke test\n",
    "move_files(test_images, test_labels, test_dir)\n",
    "\n",
    "# Tampilkan jumlah gambar per kelas di train dan test\n",
    "train_class_counts = defaultdict(int)\n",
    "test_class_counts = defaultdict(int)\n",
    "\n",
    "for lbl_path in train_labels:\n",
    "    with open(lbl_path, 'r') as file:\n",
    "        lines = file.readlines()\n",
    "        for line in lines:\n",
    "            class_id = int(line.strip().split()[0])\n",
    "            train_class_counts[class_id] += 1\n",
    "\n",
    "for lbl_path in test_labels:\n",
    "    with open(lbl_path, 'r') as file:\n",
    "        lines = file.readlines()\n",
    "        for line in lines:\n",
    "            class_id = int(line.strip().split()[0])\n",
    "            test_class_counts[class_id] += 1\n",
    "\n",
    "print(\"Train dataset:\")\n",
    "print(f\"Total images: {len(train_images)}\")\n",
    "print(\"Class distribution:\")\n",
    "print(train_class_counts)\n",
    "\n",
    "print(\"\\nTest dataset:\")\n",
    "print(f\"Total images: {len(test_images)}\")\n",
    "print(\"Class distribution:\")\n",
    "print(test_class_counts)\n"
   ]
  },
  {
   "cell_type": "code",
   "execution_count": 11,
   "id": "b4fc33e0",
   "metadata": {
    "execution": {
     "iopub.execute_input": "2024-06-16T20:46:14.610973Z",
     "iopub.status.busy": "2024-06-16T20:46:14.610671Z",
     "iopub.status.idle": "2024-06-16T20:46:14.620825Z",
     "shell.execute_reply": "2024-06-16T20:46:14.619948Z"
    },
    "papermill": {
     "duration": 0.018395,
     "end_time": "2024-06-16T20:46:14.622902",
     "exception": false,
     "start_time": "2024-06-16T20:46:14.604507",
     "status": "completed"
    },
    "tags": []
   },
   "outputs": [
    {
     "name": "stdout",
     "output_type": "stream",
     "text": [
      "YAML file created successfully.\n"
     ]
    }
   ],
   "source": [
    "import yaml\n",
    "\n",
    "# Path ke direktori dataset output\n",
    "dataset_dir = '/kaggle/working/dataset2'\n",
    "\n",
    "# Definisikan konfigurasi YAML\n",
    "config = {\n",
    "    'path': dataset_dir,\n",
    "    'train': f'{dataset_dir}/train',\n",
    "    'val': f'{dataset_dir}/test',\n",
    "    'nc': 43,  # Jumlah kelas yang Anda miliki\n",
    "    'names': ['class0', 'class1', 'class2', 'class3', 'class4', 'class5', \n",
    "              'class6', 'class7', 'class8', 'class9', 'class10', 'class11', \n",
    "              'class12', 'class13', 'class14', 'class15', 'class16', 'class17', \n",
    "              'class18', 'class19', 'class20', 'class21', 'class22', 'class23', \n",
    "              'class24', 'class25', 'class26', 'class27', 'class28', 'class29', \n",
    "              'class30', 'class31', 'class32', 'class33', 'class34', 'class35', \n",
    "              'class36', 'class37', 'class38', 'class39', 'class40', 'class41', \n",
    "              'class42']  # Nama kelas sesuai dengan urutan indeks\n",
    "}\n",
    "\n",
    "# Tulis konfigurasi ke dalam file YAML\n",
    "yaml_file = '/kaggle/working/dataset2/dataset.yaml'\n",
    "with open(yaml_file, 'w') as file:\n",
    "    yaml.dump(config, file)\n",
    "\n",
    "print(\"YAML file created successfully.\")\n"
   ]
  },
  {
   "cell_type": "code",
   "execution_count": 12,
   "id": "e717043d",
   "metadata": {
    "execution": {
     "iopub.execute_input": "2024-06-16T20:46:14.634532Z",
     "iopub.status.busy": "2024-06-16T20:46:14.634270Z",
     "iopub.status.idle": "2024-06-16T20:46:28.419913Z",
     "shell.execute_reply": "2024-06-16T20:46:28.418726Z"
    },
    "papermill": {
     "duration": 13.794309,
     "end_time": "2024-06-16T20:46:28.422390",
     "exception": false,
     "start_time": "2024-06-16T20:46:14.628081",
     "status": "completed"
    },
    "tags": []
   },
   "outputs": [
    {
     "name": "stdout",
     "output_type": "stream",
     "text": [
      "Ultralytics YOLOv8.2.33 🚀 Python-3.10.13 torch-2.1.2 CUDA:0 (Tesla T4, 15102MiB)\n",
      "Setup complete ✅ (4 CPUs, 31.4 GB RAM, 5689.3/8062.4 GB disk)\n"
     ]
    }
   ],
   "source": [
    "!pip install ultralytics==8.0.196\n",
    "\n",
    "from IPython import display\n",
    "display.clear_output()\n",
    "\n",
    "import ultralytics\n",
    "ultralytics.checks()"
   ]
  },
  {
   "cell_type": "code",
   "execution_count": 13,
   "id": "72769657",
   "metadata": {
    "execution": {
     "iopub.execute_input": "2024-06-16T20:46:28.435176Z",
     "iopub.status.busy": "2024-06-16T20:46:28.434891Z",
     "iopub.status.idle": "2024-06-16T20:46:46.584530Z",
     "shell.execute_reply": "2024-06-16T20:46:46.583194Z"
    },
    "papermill": {
     "duration": 18.159249,
     "end_time": "2024-06-16T20:46:46.587267",
     "exception": true,
     "start_time": "2024-06-16T20:46:28.428018",
     "status": "failed"
    },
    "tags": []
   },
   "outputs": [
    {
     "name": "stdout",
     "output_type": "stream",
     "text": [
      "Downloading https://github.com/ultralytics/assets/releases/download/v8.2.0/yolov8s.pt to 'yolov8s.pt'...\n"
     ]
    },
    {
     "name": "stderr",
     "output_type": "stream",
     "text": [
      "100%|██████████| 21.5M/21.5M [00:00<00:00, 173MB/s]\n"
     ]
    },
    {
     "name": "stdout",
     "output_type": "stream",
     "text": [
      "Ultralytics YOLOv8.2.33 🚀 Python-3.10.13 torch-2.1.2 CUDA:0 (Tesla T4, 15102MiB)\n",
      "\u001b[34m\u001b[1mengine/trainer: \u001b[0mtask=detect, mode=train, model=yolov8s.pt, data=/kaggle/working/dataset2/dataset.yaml, epochs=5000, time=None, patience=100, batch=64, imgsz=640, save=True, save_period=-1, cache=False, device=None, workers=8, project=None, name=train, exist_ok=False, pretrained=True, optimizer=auto, verbose=True, seed=0, deterministic=True, single_cls=False, rect=False, cos_lr=False, close_mosaic=10, resume=False, amp=True, fraction=1.0, profile=False, freeze=None, multi_scale=False, overlap_mask=True, mask_ratio=4, dropout=0.0, val=True, split=val, save_json=False, save_hybrid=False, conf=None, iou=0.7, max_det=300, half=False, dnn=False, plots=True, source=None, vid_stride=1, stream_buffer=False, visualize=False, augment=False, agnostic_nms=False, classes=None, retina_masks=False, embed=None, show=False, save_frames=False, save_txt=False, save_conf=False, save_crop=False, show_labels=True, show_conf=True, show_boxes=True, line_width=None, format=torchscript, keras=False, optimize=False, int8=False, dynamic=False, simplify=False, opset=None, workspace=4, nms=False, lr0=0.01, lrf=0.01, momentum=0.937, weight_decay=0.0005, warmup_epochs=3.0, warmup_momentum=0.8, warmup_bias_lr=0.1, box=7.5, cls=0.5, dfl=1.5, pose=12.0, kobj=1.0, label_smoothing=0.0, nbs=64, hsv_h=0.015, hsv_s=0.7, hsv_v=0.4, degrees=0.0, translate=0.1, scale=0.5, shear=0.0, perspective=0.0, flipud=0.0, fliplr=0.0, bgr=0.0, mosaic=1.0, mixup=0.0, copy_paste=0.0, auto_augment=randaugment, erasing=0.4, crop_fraction=1.0, cfg=None, tracker=botsort.yaml, save_dir=runs/detect/train\n",
      "Downloading https://ultralytics.com/assets/Arial.ttf to '/root/.config/Ultralytics/Arial.ttf'...\n"
     ]
    },
    {
     "name": "stderr",
     "output_type": "stream",
     "text": [
      "100%|██████████| 755k/755k [00:00<00:00, 14.3MB/s]\n",
      "2024-06-16 20:46:31,573\tINFO util.py:124 -- Outdated packages:\n",
      "  ipywidgets==7.7.1 found, needs ipywidgets>=8\n",
      "Run `pip install -U ipywidgets`, then restart the notebook server for rich notebook output.\n",
      "2024-06-16 20:46:32,537\tINFO util.py:124 -- Outdated packages:\n",
      "  ipywidgets==7.7.1 found, needs ipywidgets>=8\n",
      "Run `pip install -U ipywidgets`, then restart the notebook server for rich notebook output.\n"
     ]
    },
    {
     "name": "stdout",
     "output_type": "stream",
     "text": [
      "Overriding model.yaml nc=80 with nc=43\n",
      "\n",
      "                   from  n    params  module                                       arguments                     \n",
      "  0                  -1  1       928  ultralytics.nn.modules.conv.Conv             [3, 32, 3, 2]                 \n",
      "  1                  -1  1     18560  ultralytics.nn.modules.conv.Conv             [32, 64, 3, 2]                \n",
      "  2                  -1  1     29056  ultralytics.nn.modules.block.C2f             [64, 64, 1, True]             \n",
      "  3                  -1  1     73984  ultralytics.nn.modules.conv.Conv             [64, 128, 3, 2]               \n",
      "  4                  -1  2    197632  ultralytics.nn.modules.block.C2f             [128, 128, 2, True]           \n",
      "  5                  -1  1    295424  ultralytics.nn.modules.conv.Conv             [128, 256, 3, 2]              \n",
      "  6                  -1  2    788480  ultralytics.nn.modules.block.C2f             [256, 256, 2, True]           \n",
      "  7                  -1  1   1180672  ultralytics.nn.modules.conv.Conv             [256, 512, 3, 2]              \n",
      "  8                  -1  1   1838080  ultralytics.nn.modules.block.C2f             [512, 512, 1, True]           \n",
      "  9                  -1  1    656896  ultralytics.nn.modules.block.SPPF            [512, 512, 5]                 \n",
      " 10                  -1  1         0  torch.nn.modules.upsampling.Upsample         [None, 2, 'nearest']          \n",
      " 11             [-1, 6]  1         0  ultralytics.nn.modules.conv.Concat           [1]                           \n",
      " 12                  -1  1    591360  ultralytics.nn.modules.block.C2f             [768, 256, 1]                 \n",
      " 13                  -1  1         0  torch.nn.modules.upsampling.Upsample         [None, 2, 'nearest']          \n",
      " 14             [-1, 4]  1         0  ultralytics.nn.modules.conv.Concat           [1]                           \n",
      " 15                  -1  1    148224  ultralytics.nn.modules.block.C2f             [384, 128, 1]                 \n",
      " 16                  -1  1    147712  ultralytics.nn.modules.conv.Conv             [128, 128, 3, 2]              \n",
      " 17            [-1, 12]  1         0  ultralytics.nn.modules.conv.Concat           [1]                           \n",
      " 18                  -1  1    493056  ultralytics.nn.modules.block.C2f             [384, 256, 1]                 \n",
      " 19                  -1  1    590336  ultralytics.nn.modules.conv.Conv             [256, 256, 3, 2]              \n",
      " 20             [-1, 9]  1         0  ultralytics.nn.modules.conv.Concat           [1]                           \n",
      " 21                  -1  1   1969152  ultralytics.nn.modules.block.C2f             [768, 512, 1]                 \n",
      " 22        [15, 18, 21]  1   2132689  ultralytics.nn.modules.head.Detect           [43, [128, 256, 512]]         \n",
      "Model summary: 225 layers, 11152241 parameters, 11152225 gradients, 28.7 GFLOPs\n",
      "\n",
      "Transferred 349/355 items from pretrained weights\n",
      "Unexpected exception formatting exception. Falling back to standard exception\n"
     ]
    },
    {
     "name": "stderr",
     "output_type": "stream",
     "text": [
      "Traceback (most recent call last):\n",
      "  File \"/opt/conda/lib/python3.10/site-packages/IPython/core/interactiveshell.py\", line 3553, in run_code\n",
      "    exec(code_obj, self.user_global_ns, self.user_ns)\n",
      "  File \"/tmp/ipykernel_25/2784594751.py\", line 9, in <module>\n",
      "    model.train(\n",
      "  File \"/opt/conda/lib/python3.10/site-packages/ultralytics/engine/model.py\", line 663, in train\n",
      "  File \"/opt/conda/lib/python3.10/site-packages/ultralytics/engine/model.py\", line 184, in _get_hub_session\n",
      "    \"\"\"Transfers parameters with matching names and shapes from 'weights' to model.\"\"\"\n",
      "  File \"/opt/conda/lib/python3.10/site-packages/ultralytics/hub/session.py\", line 60, in __init__\n",
      "    raise HUBModelError(f\"model='{url}' not found. Check format is correct, i.e. \"\n",
      "ultralytics.utils.errors.HUBModelError: model='yolov8s.pt' not found. Check format is correct, i.e. model='https://hub.ultralytics.com/models/MODEL_ID' and try again.\n",
      "\n",
      "During handling of the above exception, another exception occurred:\n",
      "\n",
      "Traceback (most recent call last):\n",
      "  File \"/opt/conda/lib/python3.10/site-packages/IPython/core/interactiveshell.py\", line 2144, in showtraceback\n",
      "    stb = self.InteractiveTB.structured_traceback(\n",
      "  File \"/opt/conda/lib/python3.10/site-packages/IPython/core/ultratb.py\", line 1435, in structured_traceback\n",
      "    return FormattedTB.structured_traceback(\n",
      "  File \"/opt/conda/lib/python3.10/site-packages/IPython/core/ultratb.py\", line 1326, in structured_traceback\n",
      "    return VerboseTB.structured_traceback(\n",
      "  File \"/opt/conda/lib/python3.10/site-packages/IPython/core/ultratb.py\", line 1173, in structured_traceback\n",
      "    formatted_exception = self.format_exception_as_a_whole(etype, evalue, etb, number_of_lines_of_context,\n",
      "  File \"/opt/conda/lib/python3.10/site-packages/IPython/core/ultratb.py\", line 1088, in format_exception_as_a_whole\n",
      "    frames.append(self.format_record(record))\n",
      "  File \"/opt/conda/lib/python3.10/site-packages/IPython/core/ultratb.py\", line 970, in format_record\n",
      "    frame_info.lines, Colors, self.has_colors, lvals\n",
      "  File \"/opt/conda/lib/python3.10/site-packages/IPython/core/ultratb.py\", line 792, in lines\n",
      "    return self._sd.lines\n",
      "  File \"/opt/conda/lib/python3.10/site-packages/stack_data/utils.py\", line 145, in cached_property_wrapper\n",
      "    value = obj.__dict__[self.func.__name__] = self.func(obj)\n",
      "  File \"/opt/conda/lib/python3.10/site-packages/stack_data/core.py\", line 734, in lines\n",
      "    pieces = self.included_pieces\n",
      "  File \"/opt/conda/lib/python3.10/site-packages/stack_data/utils.py\", line 145, in cached_property_wrapper\n",
      "    value = obj.__dict__[self.func.__name__] = self.func(obj)\n",
      "  File \"/opt/conda/lib/python3.10/site-packages/stack_data/core.py\", line 681, in included_pieces\n",
      "    pos = scope_pieces.index(self.executing_piece)\n",
      "  File \"/opt/conda/lib/python3.10/site-packages/stack_data/utils.py\", line 145, in cached_property_wrapper\n",
      "    value = obj.__dict__[self.func.__name__] = self.func(obj)\n",
      "  File \"/opt/conda/lib/python3.10/site-packages/stack_data/core.py\", line 660, in executing_piece\n",
      "    return only(\n",
      "  File \"/opt/conda/lib/python3.10/site-packages/executing/executing.py\", line 116, in only\n",
      "    raise NotOneValueFound('Expected one value, found 0')\n",
      "executing.executing.NotOneValueFound: Expected one value, found 0\n"
     ]
    }
   ],
   "source": [
    "import os\n",
    "from ultralytics import YOLO\n",
    "\n",
    "data_path = '/kaggle/working/dataset2/dataset.yaml'\n",
    "model_path = 'yolov8s.pt'\n",
    "\n",
    "model = YOLO(model_path)\n",
    "\n",
    "model.train(\n",
    "    data=data_path,\n",
    "    epochs=5000,\n",
    "    imgsz=640,\n",
    "    batch=64,\n",
    "    fliplr=0.0,    # Hindari flipping horizontal (mirroring)\n",
    "    flipud=0.0,    # Hindari flipping vertikal (mirroring)\n",
    "    degrees=0.0,   # Hindari rotasi\n",
    ")\n"
   ]
  }
 ],
 "metadata": {
  "kaggle": {
   "accelerator": "nvidiaTeslaT4",
   "dataSources": [
    {
     "datasetId": 82373,
     "sourceId": 191501,
     "sourceType": "datasetVersion"
    },
    {
     "datasetId": 5184504,
     "sourceId": 8654568,
     "sourceType": "datasetVersion"
    },
    {
     "datasetId": 513560,
     "sourceId": 1057373,
     "sourceType": "datasetVersion"
    },
    {
     "isSourceIdPinned": true,
     "modelInstanceId": 55104,
     "sourceId": 66071,
     "sourceType": "modelInstanceVersion"
    }
   ],
   "dockerImageVersionId": 30733,
   "isGpuEnabled": true,
   "isInternetEnabled": true,
   "language": "python",
   "sourceType": "notebook"
  },
  "kernelspec": {
   "display_name": "Python 3",
   "language": "python",
   "name": "python3"
  },
  "language_info": {
   "codemirror_mode": {
    "name": "ipython",
    "version": 3
   },
   "file_extension": ".py",
   "mimetype": "text/x-python",
   "name": "python",
   "nbconvert_exporter": "python",
   "pygments_lexer": "ipython3",
   "version": "3.10.13"
  },
  "papermill": {
   "default_parameters": {},
   "duration": 125.433641,
   "end_time": "2024-06-16T20:46:49.773365",
   "environment_variables": {},
   "exception": true,
   "input_path": "__notebook__.ipynb",
   "output_path": "__notebook__.ipynb",
   "parameters": {},
   "start_time": "2024-06-16T20:44:44.339724",
   "version": "2.5.0"
  }
 },
 "nbformat": 4,
 "nbformat_minor": 5
}
